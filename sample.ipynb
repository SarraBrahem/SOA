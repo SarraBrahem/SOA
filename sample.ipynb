{
 "cells": [
  {
   "cell_type": "code",
   "execution_count": 1,
   "metadata": {},
   "outputs": [
    {
     "name": "stdout",
     "output_type": "stream",
     "text": [
      "Response from LoanDemand service: Erreur de conversion : Expecting value: line 1 column 1 (char 0)\n"
     ]
    }
   ],
   "source": [
    "from suds.client import Client\n",
    "import json\n",
    "\n",
    "# Define the endpoint for the LoanDemandService\n",
    "url = \"http://localhost:8004/LoanDemandService?wsdl\"\n",
    "\n",
    "# Initialize the SOAP client\n",
    "client = Client(url)\n",
    "\n",
    "# Create a manually verified JSON payload\n",
    "test_payload = {\n",
    "    \"Nom du Client\": \"John Doe\",\n",
    "    \"Adresse\": \"123 Rue de la Liberté, 75001 Paris, France\",\n",
    "    \"Email\": \"john.doe@email.com\",\n",
    "    \"Numéro de Téléphone\": \"+33 123 456 789\",\n",
    "    \"Montant du Prêt Demandé\": \"200000 EUR\",\n",
    "    \"Durée du Prêt\": \"20 ans\",\n",
    "    \"Description de la Propriété\": \"Maison à deux étages avec jardin\",\n",
    "    \"Revenu Mensuel\": \"5000 EUR\",\n",
    "    \"Dépenses Mensuelles\": \"3000 EUR\"\n",
    "}\n",
    "\n",
    "# Convert the payload to a JSON string\n",
    "payload_json = json.dumps(test_payload)\n",
    "\n",
    "try:\n",
    "    # Call the loanDemand service with the test payload\n",
    "    response = client.service.loanDemand(payload_json)\n",
    "\n",
    "    # Print the response from the service\n",
    "    print(\"Response from LoanDemand service:\", response)\n",
    "except Exception as e:\n",
    "    print(\"An error occurred:\", str(e))\n"
   ]
  }
 ],
 "metadata": {
  "kernelspec": {
   "display_name": "Python 3",
   "language": "python",
   "name": "python3"
  },
  "language_info": {
   "codemirror_mode": {
    "name": "ipython",
    "version": 3
   },
   "file_extension": ".py",
   "mimetype": "text/x-python",
   "name": "python",
   "nbconvert_exporter": "python",
   "pygments_lexer": "ipython3",
   "version": "3.11.6"
  }
 },
 "nbformat": 4,
 "nbformat_minor": 2
}

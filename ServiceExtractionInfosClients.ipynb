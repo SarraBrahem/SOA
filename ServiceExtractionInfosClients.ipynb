{
 "cells": [
  {
   "cell_type": "code",
   "execution_count": 1,
   "metadata": {},
   "outputs": [
    {
     "name": "stderr",
     "output_type": "stream",
     "text": [
      "DEBUG:spyne.model.complex:Got bases for DictionnaryItem from meta: (<class 'spyne.model.complex.ComplexModel'>,)\n",
      "DEBUG:spyne.model.complex:Got bases for extraire_informations from meta: (<class 'spyne.model.complex.ComplexModel'>,)\n",
      "DEBUG:spyne.model.complex:Got bases for extraire_informationsResponse from meta: (<class 'spyne.model.complex.ComplexModel'>,)\n",
      "INFO:spyne.application:Initializing application {spyne.examples.hello}Application...\n",
      "DEBUG:spyne.interface._base:populating __main__.ClientInformationExtractionService types...\n",
      "DEBUG:spyne.interface._base:  enumerating classes for method 'extraire_informations'\n",
      "DEBUG:spyne.interface._base:    adding class \"<class 'spyne.model.complex.extraire_informations'>\" for '{spyne.examples.hello}extraire_informations'\n",
      "DEBUG:spyne.interface._base:    adding extraire_informations.texte = <class 'spyne.model.primitive.string.Unicode'>\n",
      "DEBUG:spyne.interface._base:    adding class \"<class 'spyne.model.primitive.string.Unicode'>\" for '{http://www.w3.org/2001/XMLSchema}string'\n",
      "DEBUG:spyne.interface._base:    adding class \"<class 'spyne.model.complex.extraire_informationsResponse'>\" for '{spyne.examples.hello}extraire_informationsResponse'\n",
      "DEBUG:spyne.interface._base:    adding extraire_informationsResponse.extraire_informationsResult = <class '__main__.DictionnaryItem'>\n",
      "DEBUG:spyne.interface._base:    adding class \"<class '__main__.DictionnaryItem'>\" for '{information_extraction}DictionnaryItem'\n",
      "DEBUG:spyne.interface._base:    adding DictionnaryItem.key = <class 'spyne.model.primitive.string.Unicode'>\n",
      "DEBUG:spyne.interface._base:    adding DictionnaryItem.value = <class 'spyne.model.primitive.string.Unicode'>\n",
      "DEBUG:spyne.interface._base:    importing 'information_extraction' to 'spyne.examples.hello' for extraire_informationsResponse.extraire_informationsResult(<class '__main__.DictionnaryItem'>)\n",
      "DEBUG:spyne.interface._base:populating '__main__.ClientInformationExtractionService' routes...\n",
      "DEBUG:spyne.interface._base:  adding method ClientInformationExtractionService.extraire_informations to match '{spyne.examples.hello}extraire_informations' tag.\n",
      "DEBUG:spyne.interface._base:From this point on, you're not supposed to make any changes to the class and method structure of the exposed services.\n",
      "DEBUG:spyne.util.appreg:Registering <spyne.application.Application object at 0x000001D64EEBE850> as ('spyne.examples.hello', 'Application')\n",
      "INFO:root:registering static folder 'c:\\\\Users\\\\21627\\\\Desktop\\\\TP' on /\n",
      "INFO:root:registering <spyne.server.wsgi.WsgiApplication object at 0x000001D64EEC5790> on /b'ClientInformationExtractionService'\n",
      "INFO:root:listening on: 0.0.0.0:8000\n",
      "DEBUG:spyne.server.wsgi:Add http header 'accept_encoding' = ['identity']\n",
      "DEBUG:spyne.server.wsgi:Add http header 'host' = ['localhost:8000']\n",
      "DEBUG:spyne.server.wsgi:Add http header 'user_agent' = ['Python-urllib/3.11']\n",
      "DEBUG:spyne.server.wsgi:Add http header 'connection' = ['close']\n",
      "DEBUG:spyne:gc.collect() took around 50ms.\n",
      "DEBUG:spyne.server.wsgi:Add http header 'accept_encoding' = ['identity']\n",
      "DEBUG:spyne.server.wsgi:Add http header 'content_length' = ['766']\n",
      "DEBUG:spyne.server.wsgi:Add http header 'host' = ['localhost:8000']\n",
      "DEBUG:spyne.server.wsgi:Add http header 'user_agent' = ['Python-urllib/3.11']\n",
      "DEBUG:spyne.server.wsgi:Add http header 'content_type' = ['text/xml; charset=utf-8']\n",
      "DEBUG:spyne.server.wsgi:Add http header 'soapaction' = ['\"extraire_informations\"']\n",
      "DEBUG:spyne.server.wsgi:Add http header 'connection' = ['close']\n",
      "DEBUG:spyne.protocol.soap.soap11:ValueError: Deserializing from unicode strings with encoding declaration is not supported by lxml.\n",
      "DEBUG:spyne.protocol._base:<spyne.protocol.soap.soap11.Soap11 object at 0x000001D64EB70610> attrcache size: 0\n",
      "DEBUG:spyne.protocol._base:<spyne.protocol.soap.soap11.Soap11 object at 0x000001D64EB70610> attrcache size: 1\n",
      "DEBUG:spyne.protocol._base:<spyne.protocol.soap.soap11.Soap11 object at 0x000001D64EB70610> attrcache size: 1\n",
      "DEBUG:spyne.protocol._base:<spyne.protocol.soap.soap11.Soap11 object at 0x000001D64EB70610> attrcache size: 2\n",
      "DEBUG:spyne.protocol._base:<spyne.protocol.soap.soap11.Soap11 object at 0x000001D64EB70610> attrcache size: 2\n",
      "DEBUG:spyne.protocol._base:<spyne.protocol.soap.soap11.Soap11 object at 0x000001D64EEBCE50> attrcache size: 0\n",
      "DEBUG:spyne.protocol._base:PMORPH Skipped: <spyne.protocol.soap.soap11.Soap11 object at 0x000001D64EEBCE50> is NOT polymorphic\n",
      "DEBUG:spyne.protocol._base:<spyne.protocol.soap.soap11.Soap11 object at 0x000001D64EEBCE50> attrcache size: 1\n",
      "DEBUG:spyne.protocol._base:<spyne.protocol.soap.soap11.Soap11 object at 0x000001D64EEBCE50> attrcache size: 1\n",
      "DEBUG:spyne.protocol._base:<spyne.protocol.soap.soap11.Soap11 object at 0x000001D64EEBCE50> attrcache size: 1\n",
      "DEBUG:spyne.protocol._base:PMORPH Skipped: <spyne.protocol.soap.soap11.Soap11 object at 0x000001D64EEBCE50> is NOT polymorphic\n",
      "DEBUG:spyne.protocol._base:<spyne.protocol.soap.soap11.Soap11 object at 0x000001D64EEBCE50> attrcache size: 2\n",
      "DEBUG:spyne.protocol._base:<spyne.protocol.soap.soap11.Soap11 object at 0x000001D64EEBCE50> attrcache size: 2\n",
      "DEBUG:spyne.protocol._base:<spyne.protocol.soap.soap11.Soap11 object at 0x000001D64EEBCE50> attrcache size: 2\n",
      "DEBUG:spyne.protocol._base:PMORPH Skipped: <spyne.protocol.soap.soap11.Soap11 object at 0x000001D64EEBCE50> is NOT polymorphic\n",
      "DEBUG:spyne.protocol._base:<spyne.protocol.soap.soap11.Soap11 object at 0x000001D64EEBCE50> attrcache size: 3\n",
      "DEBUG:spyne.protocol._base:<spyne.protocol.soap.soap11.Soap11 object at 0x000001D64EEBCE50> attrcache size: 3\n",
      "DEBUG:spyne.protocol._base:<spyne.protocol.soap.soap11.Soap11 object at 0x000001D64EEBCE50> attrcache size: 3\n",
      "DEBUG:spyne.protocol._base:PMORPH Skipped: <spyne.protocol.soap.soap11.Soap11 object at 0x000001D64EEBCE50> is NOT polymorphic\n",
      "DEBUG:spyne.protocol._base:<spyne.protocol.soap.soap11.Soap11 object at 0x000001D64EEBCE50> attrcache size: 3\n",
      "DEBUG:spyne.protocol._base:<spyne.protocol.soap.soap11.Soap11 object at 0x000001D64EEBCE50> attrcache size: 3\n",
      "DEBUG:spyne:gc.collect() took around 40ms.\n"
     ]
    },
    {
     "name": "stdout",
     "output_type": "stream",
     "text": [
      "Informations extraites : {'Adresse': '123 Rue de la Liberté, 75001 Paris, France', 'Email': 'john.doe@email.com', 'Numéro de Téléphone': '+33 123 456 789', 'Montant du Prêt Demandé': '200000 EUR', 'Durée du Prêt': '20 ans', 'Description de la Propriété': 'Maison à deux étages\\navec jardin, située dans un quartier résidentiel calme.', 'Revenu Mensuel': '5000 EUR', 'Dépenses Mensuelles': '3000 EUR'}\n"
     ]
    },
    {
     "name": "stderr",
     "output_type": "stream",
     "text": [
      "DEBUG:spyne.server.wsgi:Add http header 'accept_encoding' = ['identity']\n",
      "DEBUG:spyne.server.wsgi:Add http header 'content_length' = ['998']\n",
      "DEBUG:spyne.server.wsgi:Add http header 'host' = ['localhost:8000']\n",
      "DEBUG:spyne.server.wsgi:Add http header 'user_agent' = ['Python-urllib/3.11']\n",
      "DEBUG:spyne.server.wsgi:Add http header 'content_type' = ['text/xml; charset=utf-8']\n",
      "DEBUG:spyne.server.wsgi:Add http header 'soapaction' = ['\"extraire_informations\"']\n",
      "DEBUG:spyne.server.wsgi:Add http header 'connection' = ['close']\n",
      "DEBUG:spyne.protocol.soap.soap11:ValueError: Deserializing from unicode strings with encoding declaration is not supported by lxml.\n",
      "DEBUG:spyne.protocol._base:<spyne.protocol.soap.soap11.Soap11 object at 0x000001D64EB70610> attrcache size: 2\n",
      "DEBUG:spyne.protocol._base:<spyne.protocol.soap.soap11.Soap11 object at 0x000001D64EB70610> attrcache size: 2\n",
      "DEBUG:spyne.protocol._base:<spyne.protocol.soap.soap11.Soap11 object at 0x000001D64EB70610> attrcache size: 2\n",
      "DEBUG:spyne.protocol._base:<spyne.protocol.soap.soap11.Soap11 object at 0x000001D64EB70610> attrcache size: 2\n",
      "DEBUG:spyne.protocol._base:<spyne.protocol.soap.soap11.Soap11 object at 0x000001D64EB70610> attrcache size: 2\n",
      "DEBUG:spyne.protocol._base:<spyne.protocol.soap.soap11.Soap11 object at 0x000001D64EEBCE50> attrcache size: 3\n",
      "DEBUG:spyne.protocol._base:PMORPH Skipped: <spyne.protocol.soap.soap11.Soap11 object at 0x000001D64EEBCE50> is NOT polymorphic\n",
      "DEBUG:spyne.protocol._base:<spyne.protocol.soap.soap11.Soap11 object at 0x000001D64EEBCE50> attrcache size: 3\n",
      "DEBUG:spyne.protocol._base:<spyne.protocol.soap.soap11.Soap11 object at 0x000001D64EEBCE50> attrcache size: 3\n",
      "DEBUG:spyne.protocol._base:<spyne.protocol.soap.soap11.Soap11 object at 0x000001D64EEBCE50> attrcache size: 3\n",
      "DEBUG:spyne.protocol._base:PMORPH Skipped: <spyne.protocol.soap.soap11.Soap11 object at 0x000001D64EEBCE50> is NOT polymorphic\n",
      "DEBUG:spyne.protocol._base:<spyne.protocol.soap.soap11.Soap11 object at 0x000001D64EEBCE50> attrcache size: 3\n",
      "DEBUG:spyne.protocol._base:<spyne.protocol.soap.soap11.Soap11 object at 0x000001D64EEBCE50> attrcache size: 3\n",
      "DEBUG:spyne.protocol._base:<spyne.protocol.soap.soap11.Soap11 object at 0x000001D64EEBCE50> attrcache size: 3\n",
      "DEBUG:spyne.protocol._base:PMORPH Skipped: <spyne.protocol.soap.soap11.Soap11 object at 0x000001D64EEBCE50> is NOT polymorphic\n",
      "DEBUG:spyne.protocol._base:<spyne.protocol.soap.soap11.Soap11 object at 0x000001D64EEBCE50> attrcache size: 3\n",
      "DEBUG:spyne.protocol._base:<spyne.protocol.soap.soap11.Soap11 object at 0x000001D64EEBCE50> attrcache size: 3\n",
      "DEBUG:spyne.protocol._base:<spyne.protocol.soap.soap11.Soap11 object at 0x000001D64EEBCE50> attrcache size: 3\n",
      "DEBUG:spyne.protocol._base:PMORPH Skipped: <spyne.protocol.soap.soap11.Soap11 object at 0x000001D64EEBCE50> is NOT polymorphic\n",
      "DEBUG:spyne.protocol._base:<spyne.protocol.soap.soap11.Soap11 object at 0x000001D64EEBCE50> attrcache size: 3\n",
      "DEBUG:spyne.protocol._base:<spyne.protocol.soap.soap11.Soap11 object at 0x000001D64EEBCE50> attrcache size: 3\n",
      "DEBUG:spyne:gc.collect() took around 50ms.\n"
     ]
    },
    {
     "name": "stdout",
     "output_type": "stream",
     "text": [
      "Informations extraites : {}\n"
     ]
    },
    {
     "ename": "SystemExit",
     "evalue": "",
     "output_type": "error",
     "traceback": [
      "An exception has occurred, use %tb to see the full traceback.\n",
      "\u001b[1;31mSystemExit\u001b[0m\n"
     ]
    },
    {
     "name": "stderr",
     "output_type": "stream",
     "text": [
      "C:\\Users\\21627\\AppData\\Roaming\\Python\\Python311\\site-packages\\IPython\\core\\interactiveshell.py:3585: UserWarning: To exit: use 'exit', 'quit', or Ctrl-D.\n",
      "  warn(\"To exit: use 'exit', 'quit', or Ctrl-D.\", stacklevel=1)\n"
     ]
    }
   ],
   "source": [
    "import logging\n",
    "import sys\n",
    "import re\n",
    "import json\n",
    "from spyne import Application, rpc, ServiceBase, Unicode, ComplexModel\n",
    "from spyne.protocol.soap import Soap11  \n",
    "from spyne.server.wsgi import WsgiApplication\n",
    "from spyne.util.wsgi_wrapper import run_twisted \n",
    "\n",
    "logging.basicConfig(level=logging.DEBUG)\n",
    "\n",
    "class DictionnaryItem(ComplexModel):\n",
    "    __namespace__ = 'information_extraction'\n",
    "    key = Unicode\n",
    "    value = Unicode\n",
    "\n",
    "class ClientInformationExtractionService(ServiceBase):\n",
    "    @rpc(Unicode, _returns=DictionnaryItem)\n",
    "    def extraire_informations(ctx, texte):\n",
    "        # Dictionnaire pour stocker les informations extraites\n",
    "        informations = {}\n",
    "        \n",
    "        # Liste des clés à extraire\n",
    "        keys = [\"Adresse\", \"Email\", \"Numéro de Téléphone\", \"Montant du Prêt Demandé\", \"Durée du Prêt\", \"Description de la Propriété\", \"Revenu Mensuel\", \"Dépenses Mensuelles\"]\n",
    "\n",
    "        # Utilisation d'expressions régulières pour extraire chaque information\n",
    "        for key in keys:\n",
    "            pattern = rf\"{key}:\\s*(.*?)\\s*(?=\\b(?:{'|'.join(keys)})|$)\"\n",
    "            match = re.search(pattern, texte, re.DOTALL)\n",
    "            if match:\n",
    "                informations[key] = match.group(1).strip()\n",
    "\n",
    "        # Affichage pour débogage\n",
    "        print(\"Informations extraites :\", informations)\n",
    "\n",
    "        # Retourne les informations en JSON\n",
    "        return DictionnaryItem(key=\"informations\", value=json.dumps(informations, ensure_ascii=False))\n",
    "\n",
    "application = Application([ClientInformationExtractionService],\n",
    "                          tns='spyne.examples.hello',\n",
    "                          in_protocol=Soap11(),\n",
    "                          out_protocol=Soap11())\n",
    "\n",
    "if __name__ == '__main__':\n",
    "    wsgi_app = WsgiApplication(application)\n",
    "    sys.exit(run_twisted([(wsgi_app, b'ClientInformationExtractionService')], 8000))\n"
   ]
  }
 ],
 "metadata": {
  "kernelspec": {
   "display_name": "Python 3",
   "language": "python",
   "name": "python3"
  },
  "language_info": {
   "codemirror_mode": {
    "name": "ipython",
    "version": 3
   },
   "file_extension": ".py",
   "mimetype": "text/x-python",
   "name": "python",
   "nbconvert_exporter": "python",
   "pygments_lexer": "ipython3",
   "version": "3.11.6"
  }
 },
 "nbformat": 4,
 "nbformat_minor": 2
}

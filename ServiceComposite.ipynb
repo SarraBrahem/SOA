{
 "cells": [
  {
   "cell_type": "code",
   "execution_count": 1,
   "metadata": {},
   "outputs": [
    {
     "ename": "SystemExit",
     "evalue": "",
     "output_type": "error",
     "traceback": [
      "An exception has occurred, use %tb to see the full traceback.\n",
      "\u001b[1;31mSystemExit\u001b[0m\n"
     ]
    },
    {
     "name": "stderr",
     "output_type": "stream",
     "text": [
      "C:\\Users\\21627\\AppData\\Roaming\\Python\\Python311\\site-packages\\IPython\\core\\interactiveshell.py:3585: UserWarning: To exit: use 'exit', 'quit', or Ctrl-D.\n",
      "  warn(\"To exit: use 'exit', 'quit', or Ctrl-D.\", stacklevel=1)\n"
     ]
    }
   ],
   "source": [
    "# Example for one service - similar structure should apply to other services.\n",
    "import logging\n",
    "import sys\n",
    "from spyne import Application, rpc, ServiceBase, Unicode, ComplexModel\n",
    "from spyne.protocol.soap import Soap11\n",
    "from spyne.server.wsgi import WsgiApplication\n",
    "import json\n",
    "\n",
    "from spyne.util.wsgi_wrapper import run_twisted\n",
    "from suds.client import Client\n",
    "\n",
    "class DictionnaryItem(ComplexModel):\n",
    "    key = Unicode\n",
    "    value = Unicode\n",
    "\n",
    "class LoanDemandService(ServiceBase):\n",
    "    @rpc(Unicode, _returns=Unicode)\n",
    "    def loanDemand(ctx, request):\n",
    "        try:\n",
    "            clientInfo = Client(\"http://localhost:8000/ClientInformationExtractionService?wsdl\")\n",
    "            clientSolvency = Client(\"http://localhost:8002/SolvencyVerificationService?wsdl\")\n",
    "            clientDecision = Client(\"http://localhost:8008/EvaluationDecisionService?wsdl\")\n",
    "\n",
    "            response_info = clientInfo.service.extraire_informations(request)\n",
    "            response_solvency = clientSolvency.service.solvencyVerif(response_info)\n",
    "            final_response = clientDecision.service.evaluationScore(response_solvency)\n",
    "\n",
    "            return final_response.value\n",
    "        except Exception as e:\n",
    "            logging.error(f\"Error during service call: {str(e)}\")\n",
    "            return f\"Erreur lors de l'appel au service : {str(e)}\"\n",
    "\n",
    "application = Application([LoanDemandService], tns='sarra.brahem.loanDemandService', in_protocol=Soap11(), out_protocol=Soap11())\n",
    "\n",
    "if __name__ == '__main__':\n",
    "    wsgi_app = WsgiApplication(application)\n",
    "    sys.exit(run_twisted([(wsgi_app, b'LoanDemandService')], 8004))\n"
   ]
  }
 ],
 "metadata": {
  "kernelspec": {
   "display_name": "Python 3",
   "language": "python",
   "name": "python3"
  },
  "language_info": {
   "codemirror_mode": {
    "name": "ipython",
    "version": 3
   },
   "file_extension": ".py",
   "mimetype": "text/x-python",
   "name": "python",
   "nbconvert_exporter": "python",
   "pygments_lexer": "ipython3",
   "version": "3.11.6"
  }
 },
 "nbformat": 4,
 "nbformat_minor": 2
}
